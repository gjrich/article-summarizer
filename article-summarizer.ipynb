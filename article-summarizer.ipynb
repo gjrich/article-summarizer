{
 "cells": [
  {
   "cell_type": "markdown",
   "metadata": {},
   "source": [
    "# Web Mining and Applied NLP (44-620)\n",
    "\n",
    "## Final Project: Article Summarizer\n",
    "\n",
    "### Student Name: Gabriel Richards\n",
    "\n",
    "Perform the tasks described in the Markdown cells below.  When you have completed the assignment make sure your code cells have all been run (and have output beneath them) and ensure you have committed and pushed ALL of your changes to your assignment repository.\n",
    "\n",
    "You should bring in code from previous assignments to help you answer the questions below.\n",
    "\n",
    "Every question that requires you to write code will have a code cell underneath it; you may either write your entire solution in that cell or write it in a python file (`.py`), then import and run the appropriate code to answer the question."
   ]
  },
  {
   "cell_type": "markdown",
   "metadata": {},
   "source": [
    "1. Find on the internet an article or blog post about a topic that interests you and you are able to get the text for using the technologies we have applied in the course.  Get the html for the article and store it in a file (which you must submit with your project)"
   ]
  },
  {
   "cell_type": "code",
   "execution_count": 1,
   "metadata": {},
   "outputs": [
    {
     "name": "stdout",
     "output_type": "stream",
     "text": [
      "Article HTML has been successfully saved to 'train_history_article.html'\n"
     ]
    }
   ],
   "source": [
    "from bs4 import BeautifulSoup\n",
    "from collections import Counter\n",
    "import matplotlib.pyplot as plt\n",
    "import numpy as np\n",
    "import requests\n",
    "import spacy\n",
    "from textblob import TextBlob\n",
    "\n",
    "\n",
    "# URL of the article\n",
    "url = \"https://trainmuseum.org/exhibits/the-railroad-changed-everything/\"\n",
    "\n",
    "# Send GET request to the URL\n",
    "response = requests.get(url)\n",
    "\n",
    "# Check if the request was successful\n",
    "if response.status_code == 200:\n",
    "    # Open a file in write mode with UTF-8 encoding\n",
    "    with open('train_history_article.html', 'w', encoding='utf-8') as file:\n",
    "        # Write the HTML content to the file\n",
    "        file.write(response.text)\n",
    "    print(\"Article HTML has been successfully saved to 'train_history_article.html'\")\n",
    "else:\n",
    "    print(f\"Failed to fetch the article. Status code: {response.status_code}\")\n"
   ]
  },
  {
   "cell_type": "markdown",
   "metadata": {},
   "source": [
    "2. Read in your article's html source from the file you created in question 1 and do sentiment analysis on the article/post's text (use `.get_text()`).  Print the polarity score with an appropriate label.  Additionally print the number of sentences in the original article (with an appropriate label)"
   ]
  },
  {
   "cell_type": "code",
   "execution_count": 2,
   "metadata": {},
   "outputs": [
    {
     "name": "stdout",
     "output_type": "stream",
     "text": [
      "Sentiment Polarity Score: 0.14\n",
      "Number of sentences in the article: 76\n"
     ]
    }
   ],
   "source": [
    "\n",
    "# Load spaCy model\n",
    "nlp = spacy.load('en_core_web_sm')\n",
    "\n",
    "# Read the HTML file\n",
    "with open('train_history_article.html', 'r', encoding='utf-8') as file:\n",
    "    html_content = file.read()\n",
    "\n",
    "# Create BeautifulSoup object\n",
    "soup = BeautifulSoup(html_content, 'html.parser')\n",
    "\n",
    "# Remove common UI elements\n",
    "for element in soup.find_all(['nav', 'header', 'footer', 'script', 'style', 'button', 'form']):\n",
    "    element.decompose()\n",
    "\n",
    "# Get the article text and clean it up\n",
    "article_text = soup.get_text()\n",
    "\n",
    "# Clean up the text by removing extra whitespace and newlines\n",
    "cleaned_text = ' '.join(article_text.split())\n",
    "\n",
    "# Process with spaCy\n",
    "doc = nlp(cleaned_text)\n",
    "\n",
    "# Filter out UI/navigation text and very short sentences\n",
    "filtered_sentences = []\n",
    "for sent in doc.sents:\n",
    "    text = sent.text.strip()\n",
    "    # Skip sentences that look like navigation/UI elements\n",
    "    if any(skip in text.lower() for skip in [\n",
    "            # Original items\n",
    "            'menu', 'search', 'facebook', 'instagram',\n",
    "            'privacy policy', 'accessibility', 'skip to content',\n",
    "            'contact', 'donate', 'buy', 'museum', 'shop', 'blog',\n",
    "            # Additional UI elements\n",
    "            'ticket', 'close', 'enter to', 'esc to', \n",
    "            'back to', 'exhibit hall', 'online now',\n",
    "            # Footer/contact items\n",
    "            'address', 'phone', 'email',\n",
    "            # Navigation items\n",
    "            'visit', 'events', 'programs', 'support', 'learn',\n",
    "            # Social proof/legal\n",
    "            'copyright', 'permission', 'follow us'\n",
    "        ]):\n",
    "        continue\n",
    "    # Skip very short sentences\n",
    "    if len(sent) < 3:\n",
    "        continue\n",
    "    filtered_sentences.append(text)\n",
    "\n",
    "# Create TextBlob object for sentiment analysis\n",
    "blob = TextBlob(' '.join(filtered_sentences))\n",
    "\n",
    "# Get polarity score\n",
    "polarity = blob.sentiment.polarity\n",
    "\n",
    "# Count sentences\n",
    "sentence_count = len(filtered_sentences)\n",
    "\n",
    "# Print results\n",
    "print(f\"Sentiment Polarity Score: {polarity:.2f}\")\n",
    "print(f\"Number of sentences in the article: {sentence_count}\")"
   ]
  },
  {
   "cell_type": "markdown",
   "metadata": {},
   "source": [
    "3. Load the article text into a trained `spaCy` pipeline, and determine the 5 most frequent tokens (converted to lower case).  Print the common tokens with an appropriate label.  Additionally, print the tokens their frequencies (with appropriate labels)"
   ]
  },
  {
   "cell_type": "code",
   "execution_count": 3,
   "metadata": {},
   "outputs": [
    {
     "name": "stdout",
     "output_type": "stream",
     "text": [
      "Five Most Common Tokens:\n",
      "Token: 'the' - Frequency: 111\n",
      "Token: 'of' - Frequency: 42\n",
      "Token: 'and' - Frequency: 41\n",
      "Token: 'to' - Frequency: 40\n",
      "Token: 'a' - Frequency: 24\n"
     ]
    }
   ],
   "source": [
    "\n",
    "nlp = spacy.load('en_core_web_sm')\n",
    "\n",
    "\n",
    "\n",
    "# Create a list of tokens, excluding punctuation and whitespace\n",
    "tokens = [token.text.lower() for token in doc if not token.is_punct and not token.is_space]\n",
    "\n",
    "# Count token frequencies\n",
    "token_freq = Counter(tokens)\n",
    "\n",
    "# Get the 5 most common tokens\n",
    "most_common = token_freq.most_common(5)\n",
    "\n",
    "# Print results\n",
    "print(\"Five Most Common Tokens:\")\n",
    "for token, freq in most_common:\n",
    "    print(f\"Token: '{token}' - Frequency: {freq}\")\n",
    "    "
   ]
  },
  {
   "cell_type": "markdown",
   "metadata": {},
   "source": [
    "4. Load the article text into a trained `spaCy` pipeline, and determine the 5 most frequent lemmas (converted to lower case).  Print the common lemmas with an appropriate label.  Additionally, print the lemmas with their frequencies (with appropriate labels)."
   ]
  },
  {
   "cell_type": "code",
   "execution_count": 4,
   "metadata": {},
   "outputs": [
    {
     "name": "stdout",
     "output_type": "stream",
     "text": [
      "Five Most Common Lemmas:\n",
      "Lemma: 'the' - Frequency: 111\n",
      "Lemma: 'be' - Frequency: 47\n",
      "Lemma: 'of' - Frequency: 42\n",
      "Lemma: 'and' - Frequency: 41\n",
      "Lemma: 'to' - Frequency: 40\n"
     ]
    }
   ],
   "source": [
    "# Create a list of lemmas, excluding punctuation and whitespace\n",
    "lemmas = [token.lemma_.lower() for token in doc if not token.is_punct and not token.is_space]\n",
    "\n",
    "# Count lemma frequencies\n",
    "lemma_freq = Counter(lemmas)\n",
    "\n",
    "# Get the 5 most common lemmas\n",
    "most_common_lemmas = lemma_freq.most_common(5)\n",
    "\n",
    "# Print results\n",
    "print(\"Five Most Common Lemmas:\")\n",
    "for lemma, freq in most_common_lemmas:\n",
    "    print(f\"Lemma: '{lemma}' - Frequency: {freq}\")"
   ]
  },
  {
   "cell_type": "markdown",
   "metadata": {},
   "source": [
    "5. Make a list containing the scores (using tokens) of every sentence in the article, and plot a histogram with appropriate titles and axis labels of the scores. From your histogram, what seems to be the most common range of scores (put the answer in a comment after your code)?"
   ]
  },
  {
   "cell_type": "code",
   "execution_count": null,
   "metadata": {},
   "outputs": [
    {
     "data": {
      "image/png": "[encoded data removed]",
      "text/plain": [
       "<Figure size 1000x600 with 1 Axes>"
      ]
     },
     "metadata": {},
     "output_type": "display_data"
    },
    {
     "name": "stdout",
     "output_type": "stream",
     "text": [
      "Minimum score: 1\n",
      "Maximum score: 82\n",
      "Average score: 14.86\n"
     ]
    }
   ],
   "source": [
    "\n",
    "\n",
    "# Calculate sentence scores (using token counts)\n",
    "sentence_scores = [len([token for token in sent if not token.is_punct and not token.is_space])\n",
    "                  for sent in doc.sents]\n",
    "\n",
    "plt.figure(figsize=(10, 6))\n",
    "\n",
    "# Create histogram with exactly 20 bins\n",
    "plt.hist(sentence_scores, bins=20, edgecolor='black')\n",
    "\n",
    "# Set axis ticks\n",
    "plt.xticks(np.arange(0, 120, 20))  # x-axis in steps of 20\n",
    "plt.yticks(np.arange(0, 30, 5))    # y-axis in steps of 5\n",
    "\n",
    "plt.title('Distribution of Sentence Scores (Token Count)')\n",
    "plt.xlabel('Number of Tokens per Sentence')\n",
    "plt.ylabel('Frequency')\n",
    "plt.grid(True, alpha=0.3)\n",
    "\n",
    "# Set axis limits\n",
    "plt.xlim(0, 120)\n",
    "\n",
    "plt.show()\n",
    "\n",
    "# Print some basic statistics\n",
    "print(f\"Minimum score: {min(sentence_scores)}\")\n",
    "print(f\"Maximum score: {max(sentence_scores)}\")\n",
    "print(f\"Average score: {sum(sentence_scores)/len(sentence_scores):.2f}\")\n",
    "\n",
    "# Most common range is ~4-8"
   ]
  },
  {
   "cell_type": "markdown",
   "metadata": {},
   "source": [
    "6. Make a list containing the scores (using lemmas) of every sentence in the article, and plot a histogram with appropriate titles and axis labels of the scores.  From your histogram, what seems to be the most common range of scores (put the answer in a comment after your code)?"
   ]
  },
  {
   "cell_type": "code",
   "execution_count": null,
   "metadata": {},
   "outputs": [
    {
     "name": "stdout",
     "output_type": "stream",
     "text": [
      "\n",
      "Most frequent bin range: 4.3-7.7\n",
      "Minimum score: 1\n",
      "Maximum score: 68\n",
      "Average score: 13.44\n"
     ]
    },
    {
     "data": {
      "image/png": "[encoded data removed]",
      "text/plain": [
       "<Figure size 1000x600 with 1 Axes>"
      ]
     },
     "metadata": {},
     "output_type": "display_data"
    }
   ],
   "source": [
    "\n",
    "# Calculate sentence scores using lemmas (ensuring we're actually using lemmas)\n",
    "sentence_scores_lemmas = []\n",
    "for sent in doc.sents:\n",
    "    # Count unique lemmas in the sentence (excluding punctuation and spaces)\n",
    "    lemmas = set(token.lemma_.lower() for token in sent \n",
    "                 if not token.is_punct and not token.is_space)\n",
    "    sentence_scores_lemmas.append(len(lemmas))\n",
    "\n",
    "# Create histogram and get the bin counts and edges\n",
    "plt.figure(figsize=(10, 6))\n",
    "counts, bins, _ = plt.hist(sentence_scores_lemmas, bins=20, edgecolor='black')\n",
    "\n",
    "# Add titles and labels\n",
    "plt.title('Distribution of Sentence Scores (Unique Lemma Count)')\n",
    "plt.xlabel('Number of Unique Lemmas per Sentence')\n",
    "plt.ylabel('Frequency')\n",
    "plt.grid(True, alpha=0.3)\n",
    "\n",
    "# Find the bin with highest frequency\n",
    "max_count_idx = np.argmax(counts)\n",
    "bin_start = bins[max_count_idx]\n",
    "bin_end = bins[max_count_idx + 1]\n",
    "print(f\"\\nMost frequent bin range: {bin_start:.1f}-{bin_end:.1f}\")\n",
    "\n",
    "# Print some basic statistics\n",
    "print(f\"Minimum score: {min(sentence_scores_lemmas)}\")\n",
    "print(f\"Maximum score: {max(sentence_scores_lemmas)}\")\n",
    "print(f\"Average score: {sum(sentence_scores_lemmas)/len(sentence_scores_lemmas):.2f}\")\n",
    "\n",
    "plt.show()\n",
    "\n",
    "# The most common range is 4.3-7.7"
   ]
  },
  {
   "cell_type": "markdown",
   "metadata": {},
   "source": [
    "7. Using the histograms from questions 5 and 6, decide a \"cutoff\" score for tokens and lemmas such that fewer than half the sentences would have a score greater than the cutoff score.  Record the scores in this Markdown cell\n",
    "\n",
    "* Cutoff Score (tokens): 25\n",
    "* Cutoff Score (lemmas): 22\n",
    "\n",
    "Feel free to change these scores as you generate your summaries.  Ideally, we're shooting for at least 6 sentences for our summary, but don't want more than 10 (these numbers are rough estimates; they depend on the length of your article)."
   ]
  },
  {
   "cell_type": "markdown",
   "metadata": {},
   "source": [
    "8. Create a summary of the article by going through every sentence in the article and adding it to an (initially) empty list if its score (based on tokens) is greater than the cutoff score you identified in question 8.  If your loop variable is named `sent`, you may find it easier to add `sent.text.strip()` to your list of sentences.  Print the summary (I would cleanly generate the summary text by `join`ing the strings in your list together with a space (`' '.join(sentence_list)`)."
   ]
  },
  {
   "cell_type": "code",
   "execution_count": 7,
   "metadata": {},
   "outputs": [
    {
     "name": "stdout",
     "output_type": "stream",
     "text": [
      "The journey west ~ 2,400 miles and 4-8 months ~ was reduced to a mere week or two following the completion of the first transcontinental railroad.\n",
      "Union Pacific Railroad Museum Northern Transcontinentals “Whoever seized the existing and future routes of trade here would have control of an area embracing eight huge and barely populated states which held incalculable resources.”\n",
      "Much like the Central and Union Pacifics, the NP was granted large amounts of land by the U.S. Government in return for completing the first northern transcontinental.\n",
      "Native Americans had distinct advantages over the European settlers because they had adapted to the environment, had developed trade networks, and were able to thrive within their means.\n",
      "Image courtesy of Snoqualmie Valley Historical Museum PO-332-3 Arrival of Railroads in the Nortwest Instead of a remote outpost that took months of travel to get to, the railroad made the region accessible.\n",
      "It was by design that much of the settlement lands were land grants the United States gave the railroad companies as incentives to build the railroads.\n",
      "The capacity of a train to haul raw logs from a hillside to a mill far exceeded what had been possible with a horse or oxen.\n",
      "The railroad allowed people the mobility to settle the vast western region of the country, but it also enabled the emerging middle class to travel for pleasure.\n",
      "The exhibit was made possible by a grant from: Selected References: Kurt Armbruster, Orphan Road: The Railway Comes to Seattle, 1853 – 1911, 1999 George H. Douglas, All Aboard!\n",
      "The Railroad in American Life, 1996 Matthew Josephson, The Robber Barons, 1934 Ray Spangenburg and Diane K. Moser, The Story of America’s Railroads, 1991 Visit Events & Programs Learn Support About Shop Blog info@trainmuseum.org / 425-888-3030 Ext.7202 facebookinstagram Snoqualmie Depot | 38625 SE King Street, Snoqualmie, WA Railway History Campus & Train Shed Exhibit Hall | 9320 Stone Quarry Road, Snoqualmie, WA 98065 North Bend Depot | 205 E McClellan Street, North Bend, WA 98045 Mailing Address | PO Box 459, Snoqualmie,\n"
     ]
    }
   ],
   "source": [
    "# Initialize empty list for summary sentences \n",
    "summary_sentences = []\n",
    "\n",
    "# Calculate scores and add sentences that exceed cutoff\n",
    "for sent in doc.sents:\n",
    "    # Count tokens (excluding punctuation and spaces)\n",
    "    score = len([token for token in sent if not token.is_punct and not token.is_space])\n",
    "   \n",
    "    # If score exceeds cutoff, add sentence to summary\n",
    "    if score > 25:\n",
    "        summary_sentences.append(sent.text.strip())\n",
    "\n",
    "# Join sentences with newlines and print summary\n",
    "summary = '\\n'.join(summary_sentences)\n",
    "print(summary)"
   ]
  },
  {
   "cell_type": "markdown",
   "metadata": {},
   "source": [
    "9. Print the polarity score of your summary you generated with the token scores (with an appropriate label). Additionally, print the number of sentences in the summarized article."
   ]
  },
  {
   "cell_type": "code",
   "execution_count": 8,
   "metadata": {},
   "outputs": [
    {
     "name": "stdout",
     "output_type": "stream",
     "text": [
      "Token Summary Sentiment Polarity Score: 0.08\n",
      "Number of sentences in the Token summary: 10\n"
     ]
    }
   ],
   "source": [
    "# Get the summary text from the last cell\n",
    "summary_text = '\\n'.join(summary_sentences)\n",
    "\n",
    "# Create TextBlob object for sentiment analysis\n",
    "summary_blob = TextBlob(summary_text)\n",
    "\n",
    "# Get polarity score and sentence count\n",
    "polarity = summary_blob.sentiment.polarity\n",
    "sentence_count = len(summary_sentences)\n",
    "\n",
    "# Print results with labels\n",
    "print(f\"Token Summary Sentiment Polarity Score: {polarity:.2f}\")\n",
    "print(f\"Number of sentences in the Token summary: {sentence_count}\")"
   ]
  },
  {
   "cell_type": "markdown",
   "metadata": {},
   "source": [
    "10. Create a summary of the article by going through every sentence in the article and adding it to an (initially) empty list if its score (based on lemmas) is greater than the cutoff score you identified in question 8.  If your loop variable is named `sent`, you may find it easier to add `sent.text.strip()` to your list of sentences.  Print the summary (I would cleanly generate the summary text by `join`ing the strings in your list together with a space (`' '.join(sentence_list)`)."
   ]
  },
  {
   "cell_type": "code",
   "execution_count": 9,
   "metadata": {},
   "outputs": [
    {
     "name": "stdout",
     "output_type": "stream",
     "text": [
      "The journey west ~ 2,400 miles and 4-8 months ~ was reduced to a mere week or two following the completion of the first transcontinental railroad.\n",
      "Union Pacific Railroad Museum Northern Transcontinentals “Whoever seized the existing and future routes of trade here would have control of an area embracing eight huge and barely populated states which held incalculable resources.”\n",
      "Much like the Central and Union Pacifics, the NP was granted large amounts of land by the U.S. Government in return for completing the first northern transcontinental.\n",
      "Native Americans had distinct advantages over the European settlers because they had adapted to the environment, had developed trade networks, and were able to thrive within their means.\n",
      "Image courtesy of Snoqualmie Valley Historical Museum PO-332-3 Arrival of Railroads in the Nortwest Instead of a remote outpost that took months of travel to get to, the railroad made the region accessible.\n",
      "Now, tourism wasn’t just for the rich and powerful, the less affluent could spend weekends traveling to various local sites, including Snoqualmie Falls.\n",
      "The exhibit was made possible by a grant from: Selected References: Kurt Armbruster, Orphan Road: The Railway Comes to Seattle, 1853 – 1911, 1999 George H. Douglas, All Aboard!\n",
      "The Railroad in American Life, 1996 Matthew Josephson, The Robber Barons, 1934 Ray Spangenburg and Diane K. Moser, The Story of America’s Railroads, 1991 Visit Events & Programs Learn Support About Shop Blog info@trainmuseum.org / 425-888-3030 Ext.7202 facebookinstagram Snoqualmie Depot | 38625 SE King Street, Snoqualmie, WA Railway History Campus & Train Shed Exhibit Hall | 9320 Stone Quarry Road, Snoqualmie, WA 98065 North Bend Depot | 205 E McClellan Street, North Bend, WA 98045 Mailing Address | PO Box 459, Snoqualmie,\n",
      "By visiting, visitors grant the Museum permission to use photographs and/or audiovisual recordings in which visitors appear for archival, documentary, publicity, advertising, or other purposes.\n"
     ]
    }
   ],
   "source": [
    "# Initialize empty list for summary sentences\n",
    "lemma_summary_sentences = []\n",
    "\n",
    "# Calculate scores and add sentences that exceed cutoff\n",
    "for sent in doc.sents:\n",
    "    # Get unique lemmas in the sentence (excluding punctuation and spaces)\n",
    "    lemmas = set(token.lemma_.lower() for token in sent \n",
    "                 if not token.is_punct and not token.is_space)\n",
    "    \n",
    "    # Calculate lemma score\n",
    "    score = len(lemmas)\n",
    "    \n",
    "    # If score exceeds cutoff, add sentence to summary\n",
    "    if score > 22:\n",
    "        lemma_summary_sentences.append(sent.text.strip())\n",
    "\n",
    "# Join sentences with newlines and print summary\n",
    "lemma_summary = '\\n'.join(lemma_summary_sentences)\n",
    "print(lemma_summary)"
   ]
  },
  {
   "cell_type": "markdown",
   "metadata": {},
   "source": [
    "11. Print the polarity score of your summary you generated with the lemma scores (with an appropriate label). Additionally, print the number of sentences in the summarized article."
   ]
  },
  {
   "cell_type": "code",
   "execution_count": 10,
   "metadata": {},
   "outputs": [
    {
     "name": "stdout",
     "output_type": "stream",
     "text": [
      "Lemma-Based Summary Sentiment Polarity Score: 0.11\n",
      "Number of sentences in the lemma-based summary: 9\n"
     ]
    }
   ],
   "source": [
    "# Get the summary text from the last cell\n",
    "lemma_summary_text = '\\n'.join(lemma_summary_sentences)\n",
    "\n",
    "# Create TextBlob object for sentiment analysis\n",
    "lemma_summary_blob = TextBlob(lemma_summary_text)\n",
    "\n",
    "# Get polarity score and sentence count\n",
    "lemma_polarity = lemma_summary_blob.sentiment.polarity\n",
    "lemma_sentence_count = len(lemma_summary_sentences)\n",
    "\n",
    "# Print results with labels\n",
    "print(f\"Lemma-Based Summary Sentiment Polarity Score: {lemma_polarity:.2f}\")\n",
    "print(f\"Number of sentences in the lemma-based summary: {lemma_sentence_count}\")\n"
   ]
  },
  {
   "cell_type": "markdown",
   "metadata": {},
   "source": [
    "12.  Compare your polarity scores of your summaries to the polarity scores of the initial article.  Is there a difference?  Why do you think that may or may not be?  Answer in this Markdown cell.  "
   ]
  },
  {
   "cell_type": "markdown",
   "metadata": {},
   "source": [
    "Polarity Score Comparison:\n",
    "Comparing the scores (Original: 0.14, Token: ~0.08, Lemma: ~0.11), there is a slight difference, with both summaries being less positive than the original article. \n",
    "This likely occurred because our selection methods favored longer sentences containing factual, historical information rather than shorter evaluative statements that often carry stronger sentiment. \n",
    "Since we selected sentences based complexity/uniqueness rather than emotional content, some of the more sentiment-rich passages were likely excluded from the summaries."
   ]
  },
  {
   "cell_type": "markdown",
   "metadata": {},
   "source": [
    "13. Based on your reading of the original article, which summary do you think is better (if there's a difference).  Why do you think this might be?"
   ]
  },
  {
   "cell_type": "markdown",
   "metadata": {},
   "source": [
    "The lemma-based summary is better. While both contain extraneous content (e.g. contact information), the lemma summary provides a more balanced view of the railroad's impact. \n",
    "\n",
    "The token summary includes similar core content but lacks some key social elements and includes redundant information about land grants. Both summaries would benefit from filtering the museum contact information, but the lemma-based version tells a more complete and balanced story of how railroads transformed American society.\n"
   ]
  }
 ],
 "metadata": {
  "kernelspec": {
   "display_name": ".venv",
   "language": "python",
   "name": "python3"
  },
  "language_info": {
   "codemirror_mode": {
    "name": "ipython",
    "version": 3
   },
   "file_extension": ".py",
   "mimetype": "text/x-python",
   "name": "python",
   "nbconvert_exporter": "python",
   "pygments_lexer": "ipython3",
   "version": "3.12.5"
  }
 },
 "nbformat": 4,
 "nbformat_minor": 4
}
